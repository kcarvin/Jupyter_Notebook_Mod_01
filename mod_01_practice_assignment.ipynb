{
 "cells": [
  {
   "cell_type": "code",
   "execution_count": 10,
   "metadata": {},
   "outputs": [
    {
     "name": "stdout",
     "output_type": "stream",
     "text": [
      "Hello, Carvin Keshunna\n"
     ]
    }
   ],
   "source": [
    "# Accept the user's first and last name and print them in reverse order with a space between them\n",
    "# User inputs string for their first name, last name, returns with print statement\n",
    "First_Name = \"Keshunna\"\n",
    "Last_Name = \"Carvin\"\n",
    "print(f'Hello, {Last_Name} {First_Name}')"
   ]
  },
  {
   "cell_type": "code",
   "execution_count": 4,
   "metadata": {},
   "outputs": [
    {
     "data": {
      "text/plain": [
       "399"
      ]
     },
     "execution_count": 4,
     "metadata": {},
     "output_type": "execute_result"
    }
   ],
   "source": [
    "# Accept an integer input from the user and compute the value of n+nn+nnn. For example if n=4 then n + nn + nnn = 4 + 44 + 444 = 492\n",
    "# Take n in as a string, concatenate for \"n+n\" and \"n+n+n\", return n to the int type and evaluate statement\n",
    "n = 7\n",
    "n + n*n + n*n*n"
   ]
  },
  {
   "cell_type": "code",
   "execution_count": 3,
   "metadata": {},
   "outputs": [
    {
     "name": "stdout",
     "output_type": "stream",
     "text": [
      "I have heard that United States is a beautiful country!\n"
     ]
    }
   ],
   "source": [
    "# Ask the user \"What country are you from?\" then print the following statement: \"I have heard that [input] is a beautiful country!\"\n",
    "# User inputs string for country name, returns with print statement\n",
    "country = input(\"What country are you from?: \")\n",
    "print(\"I have heard that \" + country + \" is a beautiful country!\")"
   ]
  },
  {
   "cell_type": "code",
   "execution_count": 6,
   "metadata": {},
   "outputs": [],
   "source": [
    "# What is the output of the following Python code\n",
    "# Print statement returns NONE because 10 to the second power equals 100\n",
    "\n",
    "x = 10\n",
    "y = 50\n",
    "if (x ** 2 > 100 and y < 100):\n",
    "    print(x, y)\n",
    "    \n",
    "    "
   ]
  },
  {
   "cell_type": "code",
   "execution_count": 7,
   "metadata": {},
   "outputs": [
    {
     "name": "stdout",
     "output_type": "stream",
     "text": [
      "[10, 20, 30, 40]\n",
      "[10, 20, 30, 40]\n"
     ]
    }
   ],
   "source": [
    "# What is the output of the following addition (+) operator, and why does this code chunk execute this way?\n",
    "# #output will print two identical lists with [30,40] ammended to both lists, since b was set to equal to a\n",
    "a = [10, 20]\n",
    "b = a\n",
    "b += [30, 40]\n",
    "print(a)\n",
    "print(b)"
   ]
  },
  {
   "cell_type": "code",
   "execution_count": 8,
   "metadata": {},
   "outputs": [
    {
     "name": "stdout",
     "output_type": "stream",
     "text": [
      "2\n"
     ]
    }
   ],
   "source": [
    "# What is the output of the following code and what arithmetic operators is being used here?\n",
    "# Print statement returns 2 because 2 is the remainder of the function when divided by 6. Modulus always returns the remainder of the function.\n",
    "print(2%6)"
   ]
  },
  {
   "cell_type": "code",
   "execution_count": 9,
   "metadata": {},
   "outputs": [
    {
     "name": "stdout",
     "output_type": "stream",
     "text": [
      "216\n"
     ]
    }
   ],
   "source": [
    "# What is the output of the following code and what arithmetic operators are used here? \n",
    "# Print statement returns 216. Using (PEMDAS) order of operations, first evaluate the exponents in the code (3*3) then evaluat ethe remaining multiples from left to right (2274)=(544)=(216)\n",
    "print(2 * 3 ** 3 * 4)"
   ]
  },
  {
   "attachments": {},
   "cell_type": "markdown",
   "metadata": {},
   "source": [
    "What is a text editor?\n",
    "A text editor is a non-interactive environment where you can create a code file, which can be run in a command line environment or an IDE. An integrated development environment (IDE) is a software application that helps programmers develop software code efficiently."
   ]
  },
  {
   "attachments": {},
   "cell_type": "markdown",
   "metadata": {},
   "source": [
    "What is python?\n",
    "Python is a high-level, interpreted, general-purpose programming language."
   ]
  },
  {
   "attachments": {},
   "cell_type": "markdown",
   "metadata": {},
   "source": [
    "What is jupyter notebook, what type of python environment is it, and what alternatives are there to jupyter notebook?\n",
    "Jupyter Notebok is an Integrated Development Environment (IDE). Alternatives are PyCharm, Pydev, and Sublime Text."
   ]
  }
 ],
 "metadata": {
  "kernelspec": {
   "display_name": "base",
   "language": "python",
   "name": "python3"
  },
  "language_info": {
   "codemirror_mode": {
    "name": "ipython",
    "version": 3
   },
   "file_extension": ".py",
   "mimetype": "text/x-python",
   "name": "python",
   "nbconvert_exporter": "python",
   "pygments_lexer": "ipython3",
   "version": "3.9.7"
  },
  "orig_nbformat": 4
 },
 "nbformat": 4,
 "nbformat_minor": 2
}
